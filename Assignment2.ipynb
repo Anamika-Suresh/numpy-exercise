{
  "cells": [
    {
      "cell_type": "markdown",
      "metadata": {
        "id": "view-in-github",
        "colab_type": "text"
      },
      "source": [
        "<a href=\"https://colab.research.google.com/github/Anamika-Suresh/numpy-exercise/blob/main/Assignment2.ipynb\" target=\"_parent\"><img src=\"https://colab.research.google.com/assets/colab-badge.svg\" alt=\"Open In Colab\"/></a>"
      ]
    },
    {
      "cell_type": "markdown",
      "id": "0d30293c-45d3-41b9-b2cd-f4607f63f236",
      "metadata": {
        "id": "0d30293c-45d3-41b9-b2cd-f4607f63f236"
      },
      "source": [
        "### Import numpy as np and see the version"
      ]
    },
    {
      "cell_type": "code",
      "execution_count": 2,
      "id": "e235243f-e4e6-4b5f-961e-b850841de5e5",
      "metadata": {
        "id": "e235243f-e4e6-4b5f-961e-b850841de5e5"
      },
      "outputs": [],
      "source": [
        "import numpy as np"
      ]
    },
    {
      "cell_type": "markdown",
      "id": "52b44b28-5163-4332-a778-dc0a7280b121",
      "metadata": {
        "id": "52b44b28-5163-4332-a778-dc0a7280b121"
      },
      "source": [
        "### Create a numpy array containing the numbers from 1 to 10, and then reshape it to a 2x5 matrix."
      ]
    },
    {
      "cell_type": "code",
      "execution_count": 3,
      "id": "de3fe71b-260e-49a6-b263-95d836d178fe",
      "metadata": {
        "id": "de3fe71b-260e-49a6-b263-95d836d178fe"
      },
      "outputs": [],
      "source": [
        "arr = np.array(range(1,11)).reshape(2,5)"
      ]
    },
    {
      "cell_type": "code",
      "execution_count": 4,
      "id": "2205098f-df4a-4186-80b8-f998941827e7",
      "metadata": {
        "colab": {
          "base_uri": "https://localhost:8080/"
        },
        "id": "2205098f-df4a-4186-80b8-f998941827e7",
        "outputId": "b0627673-9ea5-46e7-9cc2-0a85cb8d47f3"
      },
      "outputs": [
        {
          "output_type": "execute_result",
          "data": {
            "text/plain": [
              "array([[ 1,  2,  3,  4,  5],\n",
              "       [ 6,  7,  8,  9, 10]])"
            ]
          },
          "metadata": {},
          "execution_count": 4
        }
      ],
      "source": [
        "arr"
      ]
    },
    {
      "cell_type": "markdown",
      "id": "55ae154e-e5b0-446e-a470-3d4997372e98",
      "metadata": {
        "id": "55ae154e-e5b0-446e-a470-3d4997372e98"
      },
      "source": [
        "### Create a numpy array containing the numbers from 1 to 20, and then extract the elements between the 5th and 15th index."
      ]
    },
    {
      "cell_type": "code",
      "execution_count": null,
      "id": "eb15df95-2339-4e11-8bbe-f93cc0c2a531",
      "metadata": {
        "id": "eb15df95-2339-4e11-8bbe-f93cc0c2a531",
        "outputId": "6087d531-63cf-4cfe-b43f-f5629f778a66"
      },
      "outputs": [
        {
          "name": "stdout",
          "output_type": "stream",
          "text": [
            "[ 6  7  8  9 10 11 12 13 14 15 16]\n"
          ]
        }
      ],
      "source": [
        "arr = np.array(range(1,21))\n",
        "print(arr[5:16])  #based on index number a[5]"
      ]
    },
    {
      "cell_type": "markdown",
      "id": "8c370964-9d8c-462f-8cc2-a4c76cc322b9",
      "metadata": {
        "id": "8c370964-9d8c-462f-8cc2-a4c76cc322b9"
      },
      "source": [
        "### How to compute the mean, median, standard deviation of a numpy array?Use the array you created above"
      ]
    },
    {
      "cell_type": "code",
      "execution_count": null,
      "id": "fb21b47a-47b2-46d6-9e83-9dfeb3f737b1",
      "metadata": {
        "id": "fb21b47a-47b2-46d6-9e83-9dfeb3f737b1",
        "outputId": "9477d969-3695-4cb9-c72a-aa137881580b"
      },
      "outputs": [
        {
          "name": "stdout",
          "output_type": "stream",
          "text": [
            "10.5\n"
          ]
        }
      ],
      "source": [
        "print(np.mean(arr))"
      ]
    },
    {
      "cell_type": "code",
      "execution_count": null,
      "id": "39d22917-540f-45c7-a2c3-19fdae8156e6",
      "metadata": {
        "id": "39d22917-540f-45c7-a2c3-19fdae8156e6",
        "outputId": "a5758572-d11a-43da-ab77-1610656c64cf"
      },
      "outputs": [
        {
          "name": "stdout",
          "output_type": "stream",
          "text": [
            "10.5\n"
          ]
        }
      ],
      "source": [
        "print(np.median(arr))"
      ]
    },
    {
      "cell_type": "code",
      "execution_count": null,
      "id": "6ac9e14a-ae1c-465b-9a94-7e412c72c172",
      "metadata": {
        "id": "6ac9e14a-ae1c-465b-9a94-7e412c72c172",
        "outputId": "ac5a8dd7-083d-49f2-9549-afcf2ee6c637"
      },
      "outputs": [
        {
          "name": "stdout",
          "output_type": "stream",
          "text": [
            "5.766281297335398\n"
          ]
        }
      ],
      "source": [
        "print(np.std(arr))"
      ]
    },
    {
      "cell_type": "code",
      "execution_count": null,
      "id": "6df5225a-122e-481b-a274-d8ce0b2cc027",
      "metadata": {
        "id": "6df5225a-122e-481b-a274-d8ce0b2cc027",
        "outputId": "c0a542f7-b9be-4a5e-840b-6b611884db82"
      },
      "outputs": [
        {
          "name": "stdout",
          "output_type": "stream",
          "text": [
            "33.25\n"
          ]
        }
      ],
      "source": [
        "print(np.var(arr))"
      ]
    },
    {
      "cell_type": "markdown",
      "id": "9a27007d-4346-40df-94de-cf1eaac2e0f6",
      "metadata": {
        "id": "9a27007d-4346-40df-94de-cf1eaac2e0f6"
      },
      "source": [
        "### Write a NumPy program that creates a 2D array x of shape (3, 4) and a 1D array y of shape (4,). Subtract y from each row of x using broadcasting."
      ]
    },
    {
      "cell_type": "code",
      "execution_count": null,
      "id": "a02f20c1-bab6-4b04-b10b-32f4b2ca69c4",
      "metadata": {
        "id": "a02f20c1-bab6-4b04-b10b-32f4b2ca69c4",
        "outputId": "c0c04341-b64c-426f-fdad-c67992a93845"
      },
      "outputs": [
        {
          "name": "stdout",
          "output_type": "stream",
          "text": [
            "[[ 4  8 12 16]\n",
            " [24 28 32 36]\n",
            " [44 48 52 56]]\n"
          ]
        }
      ],
      "source": [
        "x = np.array([[5, 10, 15, 20],\n",
        "              [25, 30, 35, 40],\n",
        "              [45, 50, 55, 60]])\n",
        "y = y = np.array([1, 2, 3, 4])\n",
        "print(x-y)"
      ]
    },
    {
      "cell_type": "code",
      "execution_count": null,
      "id": "ed025dbc-1f49-4a7e-b0de-ced4750a8797",
      "metadata": {
        "id": "ed025dbc-1f49-4a7e-b0de-ced4750a8797"
      },
      "outputs": [],
      "source": []
    }
  ],
  "metadata": {
    "kernelspec": {
      "display_name": "Python 3 (ipykernel)",
      "language": "python",
      "name": "python3"
    },
    "language_info": {
      "codemirror_mode": {
        "name": "ipython",
        "version": 3
      },
      "file_extension": ".py",
      "mimetype": "text/x-python",
      "name": "python",
      "nbconvert_exporter": "python",
      "pygments_lexer": "ipython3",
      "version": "3.13.5"
    },
    "colab": {
      "provenance": [],
      "include_colab_link": true
    }
  },
  "nbformat": 4,
  "nbformat_minor": 5
}